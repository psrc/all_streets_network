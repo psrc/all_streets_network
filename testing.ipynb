{
 "cells": [
  {
   "cell_type": "code",
   "execution_count": 15,
   "metadata": {
    "collapsed": true
   },
   "outputs": [],
   "source": [
    "import geopandas as gpd\n",
    "from shapely.geometry import Point\n",
    "import numpy as np\n",
    "from geopandas.tools import sjoin\n",
    "import pandas as pd\n",
    "import networkx as nx\n",
    "\n",
    "import osm_extract\n",
    "\n",
    "# read tunnel data as example\n",
    "osm_df = gpd.read_file(r'C:/Joanne_PSRC/temp_data/final_network2.shp').to_crs(2285)\n",
    "nodes = gpd.read_file(r'C:/Joanne_PSRC/temp_data/all_nodes.shp')\n",
    "# islands = gpd.read_file(r'C:/Joanne_PSRC/temp_data/islands.shp').to_crs(2285)\n"
   ]
  },
  {
   "cell_type": "code",
   "execution_count": 1,
   "outputs": [],
   "source": [
    "import geopandas_osm.osm\n"
   ],
   "metadata": {
    "collapsed": false
   }
  },
  {
   "cell_type": "code",
   "execution_count": 16,
   "outputs": [],
   "source": [
    "# psrc_buffer = gpd.read_file(r'C:/Joanne_PSRC/temp_data/PS_buffer.shp').to_crs(2285)\n",
    "# islands_wID = gpd.read_file(r'C:/Joanne_PSRC/temp_data/islands_wID.shp').to_crs(2285)\n",
    "osm_gdf = gpd.read_file(r'W:/gis/projects/OSM/scripts/data/osm_extract.shp').to_crs(2285)\n",
    "highway_types = ['trunk', 'trunk_link', 'motorway', 'motorway_link',\n",
    " 'primary', 'primary_link', 'residential', 'road', 'secondary',\n",
    " 'service', 'tertiary', 'tertiary_link', 'secondary_link',\n",
    " 'cycleway', 'footway', 'pedestrian', 'living_street', 'unclassified',\n",
    " 'steps']"
   ],
   "metadata": {
    "collapsed": false
   }
  },
  {
   "cell_type": "code",
   "execution_count": 17,
   "outputs": [
    {
     "name": "stderr",
     "output_type": "stream",
     "text": [
      "C:\\Users\\JLin\\Anaconda3\\envs\\geomap\\lib\\site-packages\\geopandas\\geodataframe.py:1322: SettingWithCopyWarning: \n",
      "A value is trying to be set on a copy of a slice from a DataFrame.\n",
      "Try using .loc[row_indexer,col_indexer] = value instead\n",
      "\n",
      "See the caveats in the documentation: https://pandas.pydata.org/pandas-docs/stable/user_guide/indexing.html#returning-a-view-versus-a-copy\n",
      "  super(GeoDataFrame, self).__setitem__(key, value)\n"
     ]
    },
    {
     "name": "stdout",
     "output_type": "stream",
     "text": [
      "start splitting tunnels\n"
     ]
    },
    {
     "name": "stderr",
     "output_type": "stream",
     "text": [
      "C:\\Joanne_PSRC\\travel_models\\all_streets_network\\osm_extract.py:80: ShapelyDeprecationWarning: Iteration over multi-part geometries is deprecated and will be removed in Shapely 2.0. Use the `geoms` property to access the constituent parts of a multi-part geometry.\n",
      "  geom = [i for i in un]\n"
     ]
    },
    {
     "name": "stdout",
     "output_type": "stream",
     "text": [
      "links that are not joined back to the original roads\n",
      "Empty GeoDataFrame\n",
      "Columns: [id, geometry, highway, name, bridge, tunnel, oneway, road_id]\n",
      "Index: []\n",
      "list of all links that are duplicated in the process\n",
      "[]\n",
      "start splitting bridges\n"
     ]
    },
    {
     "name": "stderr",
     "output_type": "stream",
     "text": [
      "C:\\Joanne_PSRC\\travel_models\\all_streets_network\\osm_extract.py:80: ShapelyDeprecationWarning: Iteration over multi-part geometries is deprecated and will be removed in Shapely 2.0. Use the `geoms` property to access the constituent parts of a multi-part geometry.\n",
      "  geom = [i for i in un]\n"
     ]
    },
    {
     "name": "stdout",
     "output_type": "stream",
     "text": [
      "links that are not joined back to the original roads\n",
      "Empty GeoDataFrame\n",
      "Columns: [id, geometry, highway, name, bridge, tunnel, oneway, road_id]\n",
      "Index: []\n",
      "list of all links that are duplicated in the process\n",
      "['b-1155', 'b-1156']\n",
      "start splitting roads\n"
     ]
    },
    {
     "name": "stderr",
     "output_type": "stream",
     "text": [
      "C:\\Joanne_PSRC\\travel_models\\all_streets_network\\osm_extract.py:80: ShapelyDeprecationWarning: Iteration over multi-part geometries is deprecated and will be removed in Shapely 2.0. Use the `geoms` property to access the constituent parts of a multi-part geometry.\n",
      "  geom = [i for i in un]\n"
     ]
    },
    {
     "name": "stdout",
     "output_type": "stream",
     "text": [
      "links that are not joined back to the original roads\n",
      "              id                                           geometry highway  \\\n",
      "514893  r-514894  LINESTRING (1313215.271 233076.920, 1313183.67...     NaN   \n",
      "767249  r-767250  LINESTRING (1283153.024 327401.868, 1283199.79...     NaN   \n",
      "\n",
      "       name bridge tunnel oneway  road_id  \n",
      "514893  NaN    NaN    NaN    NaN      NaN  \n",
      "767249  NaN    NaN    NaN    NaN      NaN  \n",
      "list of all links that are duplicated in the process\n",
      "['r-71681', 'r-150200', 'r-150201', 'r-202027', 'r-266642', 'r-266643', 'r-266645', 'r-291919', 'r-331930', 'r-331931', 'r-339480', 'r-339481', 'r-339482', 'r-350103', 'r-351986', 'r-352513', 'r-362753', 'r-365876', 'r-402995', 'r-414554', 'r-415526', 'r-415533', 'r-415539', 'r-415544', 'r-431495', 'r-431499', 'r-457002', 'r-457003', 'r-463572', 'r-463573', 'r-463574', 'r-470953', 'r-479525', 'r-480752', 'r-480753', 'r-480754', 'r-486720', 'r-486721', 'r-486722', 'r-486723', 'r-486724', 'r-486725', 'r-486726', 'r-486727', 'r-498646', 'r-511804', 'r-523401', 'r-529817', 'r-529822', 'r-529823', 'r-529828', 'r-529829', 'r-533152', 'r-533153', 'r-533154', 'r-533155', 'r-533156', 'r-533369', 'r-550988', 'r-550993', 'r-550994', 'r-554094', 'r-554095', 'r-557967', 'r-557977', 'r-557978', 'r-559048', 'r-559050', 'r-559052', 'r-559053', 'r-559054', 'r-559055', 'r-559056', 'r-559057', 'r-559058', 'r-559355', 'r-559928', 'r-559929', 'r-559930', 'r-559953', 'r-559954', 'r-567545', 'r-567546', 'r-567547', 'r-568651', 'r-573752', 'r-573753', 'r-573754', 'r-573755', 'r-573918', 'r-576685', 'r-578325', 'r-579530', 'r-579696', 'r-579697', 'r-579730', 'r-580614', 'r-580616', 'r-580617', 'r-582138', 'r-582139', 'r-585693', 'r-585697', 'r-585864', 'r-585865', 'r-585876', 'r-585877', 'r-585879', 'r-585881', 'r-585882', 'r-585883', 'r-585886', 'r-585887', 'r-585894', 'r-585895', 'r-585896', 'r-585922', 'r-585923', 'r-585924', 'r-585925', 'r-585926', 'r-585927', 'r-585928', 'r-588161', 'r-588162', 'r-588163', 'r-588164', 'r-590644', 'r-590645', 'r-595420', 'r-595421', 'r-595422', 'r-595423', 'r-595424', 'r-595425', 'r-595957', 'r-595958', 'r-597145', 'r-597146', 'r-597147', 'r-597148', 'r-597149', 'r-598456', 'r-598457', 'r-604132', 'r-614187', 'r-614361', 'r-615078', 'r-615079', 'r-615080', 'r-615081', 'r-616034', 'r-616038', 'r-619394', 'r-619396', 'r-619425', 'r-619432', 'r-619433', 'r-619434', 'r-619435', 'r-619436', 'r-619437', 'r-619439', 'r-619488', 'r-619490', 'r-640010', 'r-640011', 'r-648223', 'r-650318', 'r-650319', 'r-671315', 'r-688597', 'r-688598', 'r-688600', 'r-696032', 'r-696033', 'r-696610', 'r-696610', 'r-709229', 'r-709232', 'r-712367', 'r-712368', 'r-713151', 'r-713222', 'r-713223', 'r-713224', 'r-713225', 'r-713226', 'r-713227', 'r-713228', 'r-713230', 'r-713231', 'r-713232', 'r-713233', 'r-713234', 'r-714542', 'r-714543', 'r-714581', 'r-736837', 'r-777253', 'r-777254', 'r-777255', 'r-777256', 'r-777257', 'r-777258', 'r-777259', 'r-777260', 'r-777261', 'r-781284', 'r-781285', 'r-781286', 'r-781287', 'r-781288', 'r-781289', 'r-781290', 'r-781291', 'r-781292', 'r-781293', 'r-781294', 'r-781295', 'r-781299', 'r-781300', 'r-785029', 'r-785030', 'r-785031', 'r-785032', 'r-790936', 'r-791308', 'r-791309', 'r-791310', 'r-791419', 'r-791420', 'r-810136', 'r-814749', 'r-814949', 'r-815090', 'r-815091', 'r-815092', 'r-858754', 'r-861865', 'r-876543', 'r-876544', 'r-876545', 'r-876547', 'r-878022', 'r-901086', 'r-903041', 'r-903042', 'r-903043', 'r-1054674', 'r-1054675', 'r-1069261', 'r-1069275', 'r-1069276', 'r-1069277', 'r-1069278', 'r-1069722', 'r-1086736', 'r-1086737', 'r-1108540', 'r-1133103', 'r-1133104', 'r-1133105', 'r-1133106', 'r-1133107', 'r-1133650', 'r-1133848', 'r-1133849', 'r-1141463', 'r-1144141', 'r-1156232', 'r-1156233', 'r-1156234', 'r-1182663', 'r-1197575', 'r-1204300', 'r-1204301', 'r-1208199', 'r-1208200', 'r-1208201', 'r-1208203', 'r-1208204', 'r-1213773', 'r-1217129', 'r-1217130', 'r-1217131', 'r-1217132', 'r-1221230', 'r-1246234', 'r-1309543', 'r-1309544', 'r-1309545', 'r-1309546', 'r-1309547', 'r-1309548', 'r-1309549', 'r-1309550', 'r-1309551', 'r-1309552', 'r-1309553', 'r-1309554', 'r-1309570', 'r-1309571', 'r-1309572', 'r-1309573', 'r-1309574', 'r-1309575', 'r-1309576', 'r-1309577', 'r-1309578', 'r-1309579', 'r-1309580', 'r-1309581', 'r-1335483', 'r-1338056', 'r-1339212', 'r-1340724', 'r-1340760', 'r-1340761', 'r-1345650', 'r-1345651', 'r-1346792', 'r-1352018', 'r-1352022', 'r-1352023', 'r-1352024', 'r-1352025', 'r-1357767', 'r-1357803', 'r-1357804', 'r-1357805', 'r-1357808', 'r-1357813', 'r-1358755', 'r-1358756', 'r-1362402', 'r-1362403', 'r-1362404', 'r-1362405', 'r-1362406', 'r-1362407', 'r-1362408', 'r-1362409', 'r-1362410', 'r-1362411', 'r-1367091', 'r-1367092', 'r-1367095', 'r-1371206', 'r-1371807', 'r-1371808']\n"
     ]
    }
   ],
   "source": [
    "split_net = osm_extract.generate_network_topology(osm_gdf, highway_types)"
   ],
   "metadata": {
    "collapsed": false
   }
  },
  {
   "cell_type": "code",
   "execution_count": 18,
   "outputs": [
    {
     "data": {
      "text/plain": "Index(['id', 'geometry', 'highway', 'name', 'bridge', 'tunnel', 'oneway',\n       'road_id', 'link_id'],\n      dtype='object')"
     },
     "execution_count": 18,
     "metadata": {},
     "output_type": "execute_result"
    }
   ],
   "source": [
    "split_net.columns"
   ],
   "metadata": {
    "collapsed": false
   }
  },
  {
   "cell_type": "code",
   "execution_count": null,
   "outputs": [],
   "source": [
    "x_graph = nx.Graph()\n",
    "graph = nx.from_pandas_edgelist(gdf, 'i_node', 'j_node',\n",
    "                                ['id', 'geometry', 'highway', 'name', 'bridge', 'tunnel', 'oneway', 'road_id',\n",
    "                                 'link_id', 'i_node', 'j_node'], x_graph)\n",
    "# find all sub_networks\n",
    "sep_graph = [graph.subgraph(c).copy() for c in sorted(nx.connected_components(graph), key=len, reverse=True)]\n",
    "\n",
    "# combine all edges other than the main network\n",
    "df_list = []\n",
    "for i in range(1, len(sep_graph)):  # not including main network\n",
    "    df = nx.to_pandas_edgelist(sep_graph[i])\n",
    "    df['sub_net_id'] = i  # name each sub-network\n",
    "    df_list.append(df)\n",
    "all_disconnected = pd.concat(df_list, ignore_index=True)\n",
    "\n",
    "# create a gdf out of the disconnected network and clip with island shp\n",
    "gdf_disconnect = gpd.GeoDataFrame(all_disconnected, geometry='geometry').set_crs(crs)\n",
    "\n",
    "# keep only networks on islands: clip disconnected networks using islands\n",
    "islands = gpd.read_file(Path(islands)).to_crs(crs)\n",
    "island_network = gpd.sjoin(gdf_disconnect, islands[['countyname', 'geoid20', 'island_id', 'geometry']], how=\"inner\", op='within')\n",
    "# keep largest network in islands\n",
    "island_network = island_network.loc[island_network.groupby(['island_id'])['sub_net_id'].apply(lambda x: x==min(x))]\n",
    "\n",
    "# gdf of main network\n",
    "df_final_network = nx.to_pandas_edgelist(sep_graph[0]).append(island_network)\n",
    "final_network = gpd.GeoDataFrame(df_final_network, geometry='geometry').set_crs(crs)\n"
   ],
   "metadata": {
    "collapsed": false
   }
  },
  {
   "cell_type": "markdown",
   "source": [
    "# remove sub-networks inside islands"
   ],
   "metadata": {
    "collapsed": false
   }
  },
  {
   "cell_type": "code",
   "execution_count": 3,
   "outputs": [],
   "source": [
    "x_graph = nx.Graph()\n",
    "graph = nx.from_pandas_edgelist(osm_df, 'i_node', 'j_node',\n",
    "                                ['id', 'geometry', 'highway', 'name', 'bridge', 'tunnel', 'oneway', 'road_id',\n",
    "                                 'link_id', 'i_node', 'j_node'], x_graph)\n"
   ],
   "metadata": {
    "collapsed": false
   }
  },
  {
   "cell_type": "code",
   "execution_count": 10,
   "outputs": [
    {
     "name": "stderr",
     "output_type": "stream",
     "text": [
      "C:\\Users\\JLin\\Anaconda3\\envs\\geomap\\lib\\site-packages\\pandas\\core\\dtypes\\cast.py:118: ShapelyDeprecationWarning: The array interface is deprecated and will no longer work in Shapely 2.0. Convert the '.coords' to a numpy array instead.\n",
      "  arr = construct_1d_object_array_from_listlike(values)\n",
      "C:\\Users\\JLin\\Anaconda3\\envs\\geomap\\lib\\site-packages\\pandas\\core\\dtypes\\cast.py:1990: ShapelyDeprecationWarning: __len__ for multi-part geometries is deprecated and will be removed in Shapely 2.0. Check the length of the `geoms` property instead to get the  number of parts of a multi-part geometry.\n",
      "  result[:] = values\n"
     ]
    }
   ],
   "source": [
    "# find all sub_networks\n",
    "sep_graph = [graph.subgraph(c).copy() for c in sorted(nx.connected_components(graph), key=len, reverse=True)]\n",
    "\n",
    "# combine all edges other than the main network\n",
    "df_list = []\n",
    "for i in range(1, len(sep_graph)): # not including main network\n",
    "    df = nx.to_pandas_edgelist(sep_graph[i])\n",
    "    df['sub_net_id'] = i\n",
    "\n",
    "    df_list.append(df)\n",
    "all_disconnected = pd.concat(df_list, ignore_index=True)"
   ],
   "metadata": {
    "collapsed": false
   }
  },
  {
   "cell_type": "code",
   "execution_count": null,
   "outputs": [],
   "source": [
    "# create a gdf out of the disconnected network and clip with island shp\n",
    "gdf_disconnect = gpd.GeoDataFrame(all_disconnected, geometry='geometry').set_crs(2285)"
   ],
   "metadata": {
    "collapsed": false
   }
  },
  {
   "cell_type": "code",
   "execution_count": 33,
   "outputs": [],
   "source": [
    "# keep only networks on islands: clip disconnected networks using islands\n",
    "# islands = gpd.read_file(Path(islands)).to_crs(crs)\n",
    "island_network = gpd.sjoin(gdf_disconnect, islands_wID[['countyname', 'geoid20', 'island_id', 'geometry']], how=\"inner\", op='within')\n",
    "# keep largest network in islands\n",
    "island_network = island_network.loc[island_network.groupby(['island_id'])['sub_net_id'].apply(lambda x: x==min(x))]"
   ],
   "metadata": {
    "collapsed": false
   }
  },
  {
   "cell_type": "code",
   "execution_count": 40,
   "outputs": [
    {
     "name": "stderr",
     "output_type": "stream",
     "text": [
      "C:\\Users\\JLin\\Anaconda3\\envs\\geomap\\lib\\site-packages\\pandas\\core\\dtypes\\cast.py:118: ShapelyDeprecationWarning: The array interface is deprecated and will no longer work in Shapely 2.0. Convert the '.coords' to a numpy array instead.\n",
      "  arr = construct_1d_object_array_from_listlike(values)\n"
     ]
    }
   ],
   "source": [
    "# gdf of main network\n",
    "df_final_network = nx.to_pandas_edgelist(sep_graph[0]).append(island_network[['source', 'target', 'link_id', 'highway', 'geometry', 'tunnel', 'name',\n",
    "                                                                             'bridge', 'id', 'oneway', 'i_node', 'j_node', 'road_id']])\n",
    "final_network = gpd.GeoDataFrame(df_final_network, geometry='geometry').set_crs(2285)"
   ],
   "metadata": {
    "collapsed": false
   }
  },
  {
   "cell_type": "code",
   "execution_count": 41,
   "outputs": [
    {
     "data": {
      "text/plain": "    source   target  link_id        highway  \\\n0  1091875   984218        1  motorway_link   \n1  1091875  1055723     1287       motorway   \n2  1091875   678437     1398       motorway   \n3   984218   793128   649966  motorway_link   \n4  1055723   970305     6990       motorway   \n\n                                            geometry tunnel  \\\n0  LINESTRING (1276693.013 238146.063, 1276907.48...   None   \n1  LINESTRING (1274523.918 237981.621, 1274675.07...   None   \n2  LINESTRING (1276693.013 238146.063, 1277258.16...   None   \n3  LINESTRING (1277418.550 238151.097, 1277503.79...   None   \n4  LINESTRING (1274295.965 237950.522, 1274523.91...   None   \n\n                  name   bridge        id oneway   i_node   j_node   road_id  \n0                 None  viaduct       b-1    yes  1091875   984218       4.0  \n1                 None  viaduct    b-2154    yes  1055723  1091875  116932.0  \n2  Portage Bay Viaduct  viaduct    b-2254    yes  1091875   678437  118810.0  \n3                 None     None  r-341464    yes   984218   793128  100905.0  \n4                 None     None       r-1    yes   970305  1055723       1.0  ",
      "text/html": "<div>\n<style scoped>\n    .dataframe tbody tr th:only-of-type {\n        vertical-align: middle;\n    }\n\n    .dataframe tbody tr th {\n        vertical-align: top;\n    }\n\n    .dataframe thead th {\n        text-align: right;\n    }\n</style>\n<table border=\"1\" class=\"dataframe\">\n  <thead>\n    <tr style=\"text-align: right;\">\n      <th></th>\n      <th>source</th>\n      <th>target</th>\n      <th>link_id</th>\n      <th>highway</th>\n      <th>geometry</th>\n      <th>tunnel</th>\n      <th>name</th>\n      <th>bridge</th>\n      <th>id</th>\n      <th>oneway</th>\n      <th>i_node</th>\n      <th>j_node</th>\n      <th>road_id</th>\n    </tr>\n  </thead>\n  <tbody>\n    <tr>\n      <th>0</th>\n      <td>1091875</td>\n      <td>984218</td>\n      <td>1</td>\n      <td>motorway_link</td>\n      <td>LINESTRING (1276693.013 238146.063, 1276907.48...</td>\n      <td>None</td>\n      <td>None</td>\n      <td>viaduct</td>\n      <td>b-1</td>\n      <td>yes</td>\n      <td>1091875</td>\n      <td>984218</td>\n      <td>4.0</td>\n    </tr>\n    <tr>\n      <th>1</th>\n      <td>1091875</td>\n      <td>1055723</td>\n      <td>1287</td>\n      <td>motorway</td>\n      <td>LINESTRING (1274523.918 237981.621, 1274675.07...</td>\n      <td>None</td>\n      <td>None</td>\n      <td>viaduct</td>\n      <td>b-2154</td>\n      <td>yes</td>\n      <td>1055723</td>\n      <td>1091875</td>\n      <td>116932.0</td>\n    </tr>\n    <tr>\n      <th>2</th>\n      <td>1091875</td>\n      <td>678437</td>\n      <td>1398</td>\n      <td>motorway</td>\n      <td>LINESTRING (1276693.013 238146.063, 1277258.16...</td>\n      <td>None</td>\n      <td>Portage Bay Viaduct</td>\n      <td>viaduct</td>\n      <td>b-2254</td>\n      <td>yes</td>\n      <td>1091875</td>\n      <td>678437</td>\n      <td>118810.0</td>\n    </tr>\n    <tr>\n      <th>3</th>\n      <td>984218</td>\n      <td>793128</td>\n      <td>649966</td>\n      <td>motorway_link</td>\n      <td>LINESTRING (1277418.550 238151.097, 1277503.79...</td>\n      <td>None</td>\n      <td>None</td>\n      <td>None</td>\n      <td>r-341464</td>\n      <td>yes</td>\n      <td>984218</td>\n      <td>793128</td>\n      <td>100905.0</td>\n    </tr>\n    <tr>\n      <th>4</th>\n      <td>1055723</td>\n      <td>970305</td>\n      <td>6990</td>\n      <td>motorway</td>\n      <td>LINESTRING (1274295.965 237950.522, 1274523.91...</td>\n      <td>None</td>\n      <td>None</td>\n      <td>None</td>\n      <td>r-1</td>\n      <td>yes</td>\n      <td>970305</td>\n      <td>1055723</td>\n      <td>1.0</td>\n    </tr>\n  </tbody>\n</table>\n</div>"
     },
     "execution_count": 41,
     "metadata": {},
     "output_type": "execute_result"
    }
   ],
   "source": [
    "final_network.head()\n"
   ],
   "metadata": {
    "collapsed": false
   }
  },
  {
   "cell_type": "code",
   "execution_count": 42,
   "outputs": [
    {
     "data": {
      "text/plain": "Index(['source', 'target', 'link_id', 'highway', 'geometry', 'tunnel', 'name',\n       'bridge', 'id', 'oneway', 'i_node', 'j_node', 'road_id'],\n      dtype='object')"
     },
     "execution_count": 42,
     "metadata": {},
     "output_type": "execute_result"
    }
   ],
   "source": [
    "final_network.columns"
   ],
   "metadata": {
    "collapsed": false
   }
  },
  {
   "cell_type": "code",
   "execution_count": 46,
   "outputs": [
    {
     "data": {
      "text/plain": "<Projected CRS: EPSG:2285>\nName: NAD83 / Washington North (ftUS)\nAxis Info [cartesian]:\n- X[east]: Easting (US survey foot)\n- Y[north]: Northing (US survey foot)\nArea of Use:\n- name: USA - Washington - SPCS83 - N\n- bounds: (-124.79, 47.08, -117.02, 49.05)\nCoordinate Operation:\n- name: SPCS83 Washington North zone (US Survey feet)\n- method: Lambert Conic Conformal (2SP)\nDatum: North American Datum 1983\n- Ellipsoid: GRS 1980\n- Prime Meridian: Greenwich"
     },
     "execution_count": 46,
     "metadata": {},
     "output_type": "execute_result"
    }
   ],
   "source": [
    "final_network2.crs"
   ],
   "metadata": {
    "collapsed": false
   }
  },
  {
   "cell_type": "code",
   "execution_count": 62,
   "outputs": [
    {
     "data": {
      "text/plain": "    source   target  link_id        highway  \\\n0  1091875   984218        1  motorway_link   \n1  1091875  1055723     1287       motorway   \n2  1091875   678437     1398       motorway   \n3   984218   793128   649966  motorway_link   \n4  1055723   970305     6990       motorway   \n\n                                            geometry tunnel  \\\n0  LINESTRING (1276693.013 238146.063, 1276907.48...   None   \n1  LINESTRING (1274523.918 237981.621, 1274675.07...   None   \n2  LINESTRING (1276693.013 238146.063, 1277258.16...   None   \n3  LINESTRING (1277418.550 238151.097, 1277503.79...   None   \n4  LINESTRING (1274295.965 237950.522, 1274523.91...   None   \n\n                  name   bridge        id oneway   i_node   j_node   road_id  \n0                 None  viaduct       b-1    yes  1091875   984218       4.0  \n1                 None  viaduct    b-2154    yes  1055723  1091875  116932.0  \n2  Portage Bay Viaduct  viaduct    b-2254    yes  1091875   678437  118810.0  \n3                 None     None  r-341464    yes   984218   793128  100905.0  \n4                 None     None       r-1    yes   970305  1055723       1.0  ",
      "text/html": "<div>\n<style scoped>\n    .dataframe tbody tr th:only-of-type {\n        vertical-align: middle;\n    }\n\n    .dataframe tbody tr th {\n        vertical-align: top;\n    }\n\n    .dataframe thead th {\n        text-align: right;\n    }\n</style>\n<table border=\"1\" class=\"dataframe\">\n  <thead>\n    <tr style=\"text-align: right;\">\n      <th></th>\n      <th>source</th>\n      <th>target</th>\n      <th>link_id</th>\n      <th>highway</th>\n      <th>geometry</th>\n      <th>tunnel</th>\n      <th>name</th>\n      <th>bridge</th>\n      <th>id</th>\n      <th>oneway</th>\n      <th>i_node</th>\n      <th>j_node</th>\n      <th>road_id</th>\n    </tr>\n  </thead>\n  <tbody>\n    <tr>\n      <th>0</th>\n      <td>1091875</td>\n      <td>984218</td>\n      <td>1</td>\n      <td>motorway_link</td>\n      <td>LINESTRING (1276693.013 238146.063, 1276907.48...</td>\n      <td>None</td>\n      <td>None</td>\n      <td>viaduct</td>\n      <td>b-1</td>\n      <td>yes</td>\n      <td>1091875</td>\n      <td>984218</td>\n      <td>4.0</td>\n    </tr>\n    <tr>\n      <th>1</th>\n      <td>1091875</td>\n      <td>1055723</td>\n      <td>1287</td>\n      <td>motorway</td>\n      <td>LINESTRING (1274523.918 237981.621, 1274675.07...</td>\n      <td>None</td>\n      <td>None</td>\n      <td>viaduct</td>\n      <td>b-2154</td>\n      <td>yes</td>\n      <td>1055723</td>\n      <td>1091875</td>\n      <td>116932.0</td>\n    </tr>\n    <tr>\n      <th>2</th>\n      <td>1091875</td>\n      <td>678437</td>\n      <td>1398</td>\n      <td>motorway</td>\n      <td>LINESTRING (1276693.013 238146.063, 1277258.16...</td>\n      <td>None</td>\n      <td>Portage Bay Viaduct</td>\n      <td>viaduct</td>\n      <td>b-2254</td>\n      <td>yes</td>\n      <td>1091875</td>\n      <td>678437</td>\n      <td>118810.0</td>\n    </tr>\n    <tr>\n      <th>3</th>\n      <td>984218</td>\n      <td>793128</td>\n      <td>649966</td>\n      <td>motorway_link</td>\n      <td>LINESTRING (1277418.550 238151.097, 1277503.79...</td>\n      <td>None</td>\n      <td>None</td>\n      <td>None</td>\n      <td>r-341464</td>\n      <td>yes</td>\n      <td>984218</td>\n      <td>793128</td>\n      <td>100905.0</td>\n    </tr>\n    <tr>\n      <th>4</th>\n      <td>1055723</td>\n      <td>970305</td>\n      <td>6990</td>\n      <td>motorway</td>\n      <td>LINESTRING (1274295.965 237950.522, 1274523.91...</td>\n      <td>None</td>\n      <td>None</td>\n      <td>None</td>\n      <td>r-1</td>\n      <td>yes</td>\n      <td>970305</td>\n      <td>1055723</td>\n      <td>1.0</td>\n    </tr>\n  </tbody>\n</table>\n</div>"
     },
     "execution_count": 62,
     "metadata": {},
     "output_type": "execute_result"
    }
   ],
   "source": [
    "final_network.head()"
   ],
   "metadata": {
    "collapsed": false
   }
  },
  {
   "cell_type": "code",
   "execution_count": 35,
   "outputs": [
    {
     "name": "stderr",
     "output_type": "stream",
     "text": [
      "C:\\Users\\JLin\\Anaconda3\\envs\\geomap\\lib\\site-packages\\ipykernel_launcher.py:1: UserWarning: Column names longer than 10 characters will be truncated when saved to ESRI Shapefile.\n",
      "  \"\"\"Entry point for launching an IPython kernel.\n",
      "C:\\Users\\JLin\\Anaconda3\\envs\\geomap\\lib\\site-packages\\ipykernel_launcher.py:2: UserWarning: Column names longer than 10 characters will be truncated when saved to ESRI Shapefile.\n",
      "  \n"
     ]
    }
   ],
   "source": [
    "island_network.to_file(r'C:/Joanne_PSRC/temp_data/island_network.shp')\n",
    "final_network.to_file(r'C:/Joanne_PSRC/temp_data/final_network2.shp')"
   ],
   "metadata": {
    "collapsed": false
   }
  },
  {
   "cell_type": "markdown",
   "source": [
    "# save links and nodes to csv files"
   ],
   "metadata": {
    "collapsed": false
   }
  },
  {
   "cell_type": "code",
   "execution_count": 21,
   "outputs": [
    {
     "data": {
      "text/plain": "         node_id                        geometry\n0              1  POINT (1343547.622 138752.081)\n1              2  POINT (1280957.837 155260.215)\n2              3   POINT (1076887.545 84688.734)\n3              4  POINT (1273355.163 228830.169)\n4              5   POINT (1200754.406 54392.210)\n...          ...                             ...\n1098761  1098762  POINT (1303640.851 180465.992)\n1098762  1098763    POINT (1112507.509 1615.626)\n1098763  1098764  POINT (1289038.209 247637.045)\n1098764  1098765  POINT (1325684.535 108883.470)\n1098765  1098766  POINT (1294222.518 171651.910)\n\n[1098766 rows x 2 columns]",
      "text/html": "<div>\n<style scoped>\n    .dataframe tbody tr th:only-of-type {\n        vertical-align: middle;\n    }\n\n    .dataframe tbody tr th {\n        vertical-align: top;\n    }\n\n    .dataframe thead th {\n        text-align: right;\n    }\n</style>\n<table border=\"1\" class=\"dataframe\">\n  <thead>\n    <tr style=\"text-align: right;\">\n      <th></th>\n      <th>node_id</th>\n      <th>geometry</th>\n    </tr>\n  </thead>\n  <tbody>\n    <tr>\n      <th>0</th>\n      <td>1</td>\n      <td>POINT (1343547.622 138752.081)</td>\n    </tr>\n    <tr>\n      <th>1</th>\n      <td>2</td>\n      <td>POINT (1280957.837 155260.215)</td>\n    </tr>\n    <tr>\n      <th>2</th>\n      <td>3</td>\n      <td>POINT (1076887.545 84688.734)</td>\n    </tr>\n    <tr>\n      <th>3</th>\n      <td>4</td>\n      <td>POINT (1273355.163 228830.169)</td>\n    </tr>\n    <tr>\n      <th>4</th>\n      <td>5</td>\n      <td>POINT (1200754.406 54392.210)</td>\n    </tr>\n    <tr>\n      <th>...</th>\n      <td>...</td>\n      <td>...</td>\n    </tr>\n    <tr>\n      <th>1098761</th>\n      <td>1098762</td>\n      <td>POINT (1303640.851 180465.992)</td>\n    </tr>\n    <tr>\n      <th>1098762</th>\n      <td>1098763</td>\n      <td>POINT (1112507.509 1615.626)</td>\n    </tr>\n    <tr>\n      <th>1098763</th>\n      <td>1098764</td>\n      <td>POINT (1289038.209 247637.045)</td>\n    </tr>\n    <tr>\n      <th>1098764</th>\n      <td>1098765</td>\n      <td>POINT (1325684.535 108883.470)</td>\n    </tr>\n    <tr>\n      <th>1098765</th>\n      <td>1098766</td>\n      <td>POINT (1294222.518 171651.910)</td>\n    </tr>\n  </tbody>\n</table>\n<p>1098766 rows × 2 columns</p>\n</div>"
     },
     "execution_count": 21,
     "metadata": {},
     "output_type": "execute_result"
    }
   ],
   "source": [
    "nodes.columns"
   ],
   "metadata": {
    "collapsed": false
   }
  },
  {
   "cell_type": "code",
   "execution_count": 2,
   "outputs": [
    {
     "data": {
      "text/plain": "   id           x          y\n0   1 -122.031462  47.374047\n1   2 -122.285270  47.416342\n2   3 -123.100770  47.209407\n3   4 -122.321719  47.617599\n4   5 -122.599775  47.135278",
      "text/html": "<div>\n<style scoped>\n    .dataframe tbody tr th:only-of-type {\n        vertical-align: middle;\n    }\n\n    .dataframe tbody tr th {\n        vertical-align: top;\n    }\n\n    .dataframe thead th {\n        text-align: right;\n    }\n</style>\n<table border=\"1\" class=\"dataframe\">\n  <thead>\n    <tr style=\"text-align: right;\">\n      <th></th>\n      <th>id</th>\n      <th>x</th>\n      <th>y</th>\n    </tr>\n  </thead>\n  <tbody>\n    <tr>\n      <th>0</th>\n      <td>1</td>\n      <td>-122.031462</td>\n      <td>47.374047</td>\n    </tr>\n    <tr>\n      <th>1</th>\n      <td>2</td>\n      <td>-122.285270</td>\n      <td>47.416342</td>\n    </tr>\n    <tr>\n      <th>2</th>\n      <td>3</td>\n      <td>-123.100770</td>\n      <td>47.209407</td>\n    </tr>\n    <tr>\n      <th>3</th>\n      <td>4</td>\n      <td>-122.321719</td>\n      <td>47.617599</td>\n    </tr>\n    <tr>\n      <th>4</th>\n      <td>5</td>\n      <td>-122.599775</td>\n      <td>47.135278</td>\n    </tr>\n  </tbody>\n</table>\n</div>"
     },
     "execution_count": 2,
     "metadata": {},
     "output_type": "execute_result"
    }
   ],
   "source": [
    "nodes2 = nodes.copy().set_crs(2285).to_crs(4326)\n",
    "nodes2['x'] = nodes2['geometry'].apply(lambda x: x.coords[0][0])\n",
    "nodes2['y'] = nodes2['geometry'].apply(lambda x: x.coords[0][1])\n",
    "nodes_list = pd.DataFrame(nodes2.drop(columns='geometry').rename(columns={\"node_id\": \"id\"}))\n",
    "nodes_list.head()\n"
   ],
   "metadata": {
    "collapsed": false
   }
  },
  {
   "cell_type": "code",
   "execution_count": 33,
   "outputs": [
    {
     "data": {
      "text/plain": "[1091875,\n 1055723,\n 1091875,\n 984218,\n 970305,\n 678437,\n 793128,\n 975990,\n 599196,\n 465452,\n 880960,\n 444601,\n 880960,\n 913380,\n 509886,\n 465452,\n 168453,\n 637918,\n 444601,\n 676610,\n 13881,\n 13881,\n 191550,\n 971117,\n 1011040,\n 378207,\n 119406,\n 917201,\n 130402,\n 863932,\n 865177,\n 481504,\n 865177,\n 537102,\n 386619,\n 681168,\n 105968,\n 521235,\n 62497,\n 672716,\n 521235,\n 98867,\n 98867,\n 732412,\n 917626,\n 419555,\n 772017,\n 917626,\n 620619,\n 1059963,\n 475604,\n 488239,\n 509886,\n 475604,\n 1043604,\n 54501,\n 891325,\n 685751,\n 685751,\n 544272,\n 696674,\n 487966,\n 1072962,\n 1052970,\n 382278,\n 79279,\n 227641,\n 1023540,\n 199593,\n 229263,\n 447506,\n 405144,\n 866284,\n 843816,\n 83745,\n 37591,\n 318589,\n 677764,\n 978069,\n 671341,\n 83745,\n 367966,\n 38038,\n 751274,\n 957737,\n 957737,\n 921112,\n 844205,\n 843966,\n 139211,\n 864471,\n 768390,\n 548633,\n 864471,\n 697665,\n 465501,\n 165635,\n 201618,\n 248405,\n 231735,\n 165635,\n 1047659,\n 370656,\n 168781,\n 443018,\n 83969,\n 582559,\n 214248,\n 726456,\n 735478,\n 378921,\n 266914,\n 64227,\n 854458,\n 1050107,\n 1050107,\n 971263,\n 48472,\n 971263,\n 198294,\n 1007008,\n 198294,\n 974617,\n 48472,\n 889661,\n 543433,\n 1064527,\n 1074380,\n 440803,\n 648953,\n 512230,\n 991852,\n 991852,\n 577822,\n 512230,\n 218701,\n 928604,\n 218701,\n 258788,\n 1025972,\n 928604,\n 1025972,\n 543433,\n 909427,\n 208297,\n 451651,\n 331978,\n 451651,\n 422780,\n 795911,\n 331978,\n 795911,\n 1098303,\n 530309,\n 204896,\n 1000359,\n 350247,\n 742607,\n 350247,\n 983276,\n 1045943,\n 530065,\n 758278,\n 133762,\n 758278,\n 939057,\n 276793,\n 276793,\n 155071,\n 1068543,\n 1068543,\n 941566,\n 293264,\n 686052,\n 1043487,\n 148903,\n 711221,\n 498986,\n 711221,\n 92014,\n 148903,\n 108210,\n 291486,\n 108210,\n 405450,\n 926869,\n 298752,\n 926869,\n 672976,\n 706475,\n 16329,\n 298752,\n 847550,\n 1059199,\n 113939,\n 954581,\n 39146,\n 323991,\n 806211,\n 123240,\n 123240,\n 515752,\n 773968,\n 403588,\n 773968,\n 1042805,\n 1083523,\n 1042805,\n 709763,\n 676023,\n 386558,\n 787926,\n 128071,\n 787926,\n 392165,\n 523247,\n 969430,\n 459315,\n 326791,\n 807769,\n 240807,\n 733186,\n 471261,\n 326791,\n 959710,\n 308585,\n 326707,\n 884805,\n 1033332,\n 1033332,\n 326707,\n 565742,\n 630316,\n 833425,\n 91445,\n 637215,\n 917514,\n 654548,\n 476546,\n 5759,\n 118824,\n 917430,\n 118824,\n 414544,\n 998946,\n 686694,\n 998946,\n 375886,\n 762529,\n 578116,\n 578116,\n 797730,\n 1055461,\n 770080,\n 248289,\n 282114,\n 63689,\n 797730,\n 491329,\n 869912,\n 401411,\n 762529,\n 318377,\n 318377,\n 923788,\n 1063567,\n 439134,\n 581723,\n 1063567,\n 159630,\n 52707,\n 815966,\n 811345,\n 946011,\n 436444,\n 112533,\n 613477,\n 105329,\n 28504,\n 889384,\n 903991,\n 747573,\n 889384,\n 809089,\n 91000,\n 100812,\n 100812,\n 640633,\n 223989,\n 210617,\n 223989,\n 426288,\n 864250,\n 550,\n 747765,\n 550,\n 552431,\n 964465,\n 489428,\n 320284,\n 426288,\n 531750,\n 904599,\n 354810,\n 747765,\n 154896,\n 409604,\n 1002270,\n 597475,\n 1002270,\n 162739,\n 474242,\n 1075413,\n 474242,\n 370442,\n 402291,\n 286404,\n 369168,\n 402291,\n 213150,\n 397804,\n 870280,\n 300846,\n 424278,\n 260884,\n 424278,\n 424278,\n 1078996,\n 587636,\n 683253,\n 480336,\n 425935,\n 848398,\n 213150,\n 790311,\n 654656,\n 453919,\n 431925,\n 25946,\n 510397,\n 971150,\n 520041,\n 541921,\n 1072915,\n 952536,\n 729708,\n 729708,\n 151982,\n 835074,\n 543308,\n 669153,\n 835074,\n 801960,\n 1061482,\n 1061482,\n 919694,\n 631396,\n 631396,\n 844678,\n 115736,\n 115736,\n 44489,\n 418544,\n 835699,\n 389029,\n 99425,\n 99425,\n 375361,\n 790294,\n 555135,\n 603713,\n 519287,\n 594176,\n 1060560,\n 960170,\n 960170,\n 353018,\n 58454,\n 387431,\n 53570,\n 380829,\n 667518,\n 711041,\n 551987,\n 473800,\n 551987,\n 346826,\n 711041,\n 620901,\n 1092207,\n 832546,\n 334204,\n 832546,\n 899250,\n 1018996,\n 184383,\n 714534,\n 283535,\n 501142,\n 714534,\n 303056,\n 584113,\n 717469,\n 37401,\n 576472,\n 340187,\n 340187,\n 636306,\n 505612,\n 199775,\n 556399,\n 505612,\n 227068,\n 446049,\n 944150,\n 543355,\n 499649,\n 399527,\n 723215,\n 399527,\n 942322,\n 417768,\n 76963,\n 695733,\n 1055304,\n 691514,\n 112344,\n 873080,\n 46797,\n 415649,\n 873080,\n 990849,\n 597550,\n 935855,\n 253584,\n 226221,\n 352966,\n 895175,\n 253584,\n 707888,\n 850578,\n 850578,\n 340397,\n 593247,\n 491737,\n 593247,\n 339195,\n 645637,\n 182041,\n 352640,\n 825467,\n 760427,\n 876827,\n 346493,\n 346493,\n 1093189,\n 116693,\n 434872,\n 116693,\n 112447,\n 387459,\n 387459,\n 204214,\n 660460,\n 640775,\n 639129,\n 193380,\n 907305,\n 493892,\n 618731,\n 875179,\n 351285,\n 225586,\n 351285,\n 436794,\n 875179,\n 985703,\n 73387,\n 985703,\n 707317,\n 810455,\n 745065,\n 73387,\n 745065,\n 1014300,\n 191240,\n 452599,\n 191240,\n 804699,\n 452599,\n 431367,\n 407438,\n 368010,\n 503171,\n 540368,\n 317799,\n 317799,\n 143163,\n 867978,\n 317014,\n 593502,\n 867978,\n 867978,\n 315589,\n 320438,\n 196396,\n 196396,\n 196396,\n 645514,\n 31464,\n 1050889,\n 223895,\n 942402,\n 698554,\n 942402,\n 622239,\n 645514,\n 486625,\n 243605,\n 1050889,\n 1050889,\n 747206,\n 521858,\n 512604,\n 67937,\n 236938,\n 1013576,\n 211975,\n 211975,\n 309515,\n 746953,\n 745002,\n 432790,\n 746953,\n 572089,\n 572089,\n 160653,\n 75234,\n 623026,\n 594860,\n 709674,\n 981121,\n 617748,\n 21548,\n 56705,\n 300019,\n 476717,\n 93164,\n 247462,\n 679069,\n 770293,\n 417595,\n 409734,\n 608360,\n 344117,\n 1000778,\n 801395,\n 330790,\n 56705,\n 594949,\n 435685,\n 1053482,\n 937066,\n 494512,\n 494512,\n 60889,\n 732010,\n 879402,\n 198662,\n 308451,\n 813764,\n 606008,\n 813764,\n 421875,\n 485806,\n 421875,\n 52335,\n 777675,\n 656100,\n 52335,\n 446252,\n 592065,\n 592065,\n 1089997,\n 640204,\n 250554,\n 628056,\n 553990,\n 767184,\n 177993,\n 335771,\n 818023,\n 12043,\n 27982,\n 1019139,\n 411408,\n 248307,\n 660493,\n 135272,\n 918134,\n 855871,\n 36068,\n 702275,\n 279708,\n 528962,\n 36068,\n 946951,\n 679969,\n 946951,\n 707135,\n 1019887,\n 174013,\n 1019887,\n 271659,\n 974198,\n 150725,\n 955689,\n 358304,\n 956811,\n 955689,\n 563689,\n 304389,\n 18017,\n 159243,\n 271426,\n 414654,\n 159243,\n 769203,\n 722801,\n 122001,\n 1000585,\n 909919,\n 54792,\n 982900,\n 670512,\n 1063562,\n 223928,\n 963233,\n 700676,\n 223928,\n 414760,\n 314180,\n 1018435,\n 336819,\n 1018435,\n 186916,\n 75085,\n 243575,\n 469085,\n 575257,\n 511990,\n 624071,\n 1023871,\n 935465,\n 393981,\n 935465,\n 1023812,\n 753582,\n 743375,\n 743375,\n 748826,\n 140748,\n 520949,\n 505535,\n 737945,\n 520949,\n 50285,\n 50285,\n 50285,\n 374996,\n 774365,\n 723898,\n 714830,\n 956811,\n 247339,\n 365446,\n 964634,\n 1043659,\n 208354,\n 475855,\n 869520,\n 209218,\n 440080,\n 455010,\n 287504,\n 50295,\n 943425,\n 258980,\n 32228,\n 32228,\n 301959,\n 63609,\n 403201,\n 1093202,\n 847485,\n 63609,\n 216811,\n 216811,\n 710408,\n 372067,\n 1034603,\n 790956,\n 248583,\n 322401,\n 322401,\n 929560,\n 1009995,\n 194885,\n 692446,\n 114055,\n 953408,\n 827292,\n 362165,\n 949293,\n 362165,\n 397333,\n 692446,\n 114055,\n 1019475,\n 63400,\n 394316,\n 66614,\n 66614,\n 514688,\n 963611,\n 113256,\n 963611,\n 963611,\n 1041625,\n 465235,\n 465235,\n 574293,\n 948777,\n 1059415,\n 960800,\n 945358,\n 369317,\n 742528,\n 742528,\n 1057862,\n 1063588,\n 1063588,\n 607888,\n 241631,\n 136995,\n 612183,\n 681765,\n 767258,\n 399713,\n 456574,\n 399713,\n 204285,\n 149828,\n 88148,\n 966637,\n 612832,\n 264511,\n 909222,\n 751643,\n 399390,\n 751643,\n 297113,\n 878446,\n 562585,\n 820508,\n 1040163,\n 1085430,\n 498948,\n 184652,\n 1040163,\n 42953,\n 723555,\n 1085430,\n 739326,\n 962758,\n 264486,\n 90627,\n 511762,\n 511762,\n 826288,\n 963978,\n 337237,\n 487114,\n 784352,\n 543980,\n 543980,\n 898843,\n 1043148,\n 312953,\n 537193,\n 596746,\n 930305,\n 959716,\n 816804,\n 959716,\n 986109,\n 346991,\n 768576,\n 768576,\n 666936,\n 609535,\n 399742,\n 842997,\n 392089,\n 850103,\n 109846,\n 547478,\n 290840,\n 290840,\n 547478,\n 749907,\n 764536,\n 253321,\n 586336,\n 245425,\n 297231,\n 707317,\n 245425,\n 420129,\n 627218,\n 297231,\n 703124,\n 329081,\n 915655,\n 1055158,\n 754402,\n 883637,\n 915655,\n 9585,\n 9585,\n 826665,\n 284155,\n 602360,\n 602360,\n 511062,\n 319990,\n 521384,\n 952921,\n 710603,\n 113265,\n 392744,\n 624124,\n 548684,\n 624124,\n 607571,\n 459495,\n 466104,\n 459495,\n 556670,\n 490300,\n 218377,\n 357750,\n 490300,\n 490300,\n 1071882,\n 218377,\n 1071882,\n 995670,\n 239293,\n 466104,\n 670179,\n 811472,\n 227730,\n 974875,\n 982859,\n 479081,\n 103099,\n 449928,\n 913380,\n 913394,\n 752116,\n 752116,\n 687776,\n 455779,\n 108935,\n 357906,\n 34671,\n 373376,\n 404433,\n 18164,\n 82826,\n 18164,\n 118613,\n 647383,\n 208448,\n 5106,\n 818647,\n 140830,\n 864954,\n 512533,\n 702001,\n 616674,\n 283086,\n 418036,\n 647928,\n 283086,\n 713684,\n 811766,\n 50963,\n 956840,\n 186916,\n 362800,\n 901027,\n 830096,\n 372877,\n 372877,\n 80847,\n 420885,\n 947688,\n 1098495,\n 506783,\n 362800,\n 245489,\n 988143,\n 32011,\n 1041625,\n 669404,\n 527620,\n 225995,\n 715163,\n 732606,\n 306385,\n 271025,\n 271025,\n 935483,\n 891338,\n 554641,\n 972939,\n 1028575,\n 318623,\n 240364,\n 318623,\n 780584,\n 645135,\n 179756,\n 240364,\n 919841,\n 131867,\n 465654,\n 989436,\n 645135,\n 656963,\n 683022,\n 1064464,\n 345734,\n 329245,\n 1064464,\n 216149,\n 216149,\n 348941,\n 201168,\n 1083314,\n 1098676,\n 201168,\n 841631,\n 607039,\n 412475,\n 767729,\n 1081403,\n 367843,\n 1029254,\n 481129,\n 1078534,\n 193594,\n 825216,\n 207476,\n 993488,\n 42199,\n 893537,\n 691359,\n 623323,\n 112036,\n 623323,\n 13903,\n 995598,\n 455116,\n 455116,\n 137562,\n 398498,\n 398498,\n 398498,\n 350044,\n 168806,\n 482744,\n 93796,\n 201206,\n 93796,\n 475092,\n 164073,\n 1024164,\n 537739,\n 761307,\n 540066,\n 861129,\n 113181,\n 492947,\n 761307,\n 552127,\n 113181,\n 861129,\n ...]"
     },
     "execution_count": 33,
     "metadata": {},
     "output_type": "execute_result"
    }
   ],
   "source": [
    "\n",
    "res = [int(i) for i in osm_df['i_node'].tolist()]\n",
    "res"
   ],
   "metadata": {
    "collapsed": false
   }
  },
  {
   "cell_type": "code",
   "execution_count": 5,
   "outputs": [
    {
     "data": {
      "text/plain": "         link_id   i_node   j_node oneway  \\\n0              1  1091875   984218    yes   \n1           1287  1055723  1091875    yes   \n2           1398  1091875   678437    yes   \n3         649966   984218   793128    yes   \n4           6990   970305  1055723    yes   \n...          ...      ...      ...    ...   \n1337858   635325   429497   176266   None   \n1337859   635321  1065772   176266   None   \n1337860   781247  1065772  1018215   None   \n1337861   635320   824300  1065772   None   \n1337862   781248  1040409   433900   None   \n\n                                                  geometry  distance_miles  \\\n0        LINESTRING (1276693.013 238146.063, 1276907.48...        0.140338   \n1        LINESTRING (1274523.918 237981.621, 1274675.07...        0.413011   \n2        LINESTRING (1276693.013 238146.063, 1277258.16...        0.131481   \n3        LINESTRING (1277418.550 238151.097, 1277503.79...        0.049674   \n4        LINESTRING (1274295.965 237950.522, 1274523.91...        0.043573   \n...                                                    ...             ...   \n1337858  LINESTRING (1298938.432 369129.805, 1298977.81...        0.015482   \n1337859  LINESTRING (1299003.394 369003.050, 1299007.58...        0.024914   \n1337860  LINESTRING (1299003.394 369003.050, 1299003.08...        0.179496   \n1337861  LINESTRING (1298638.164 368706.530, 1298699.91...        0.095362   \n1337862  LINESTRING (1298631.104 369772.278, 1298663.41...        0.087058   \n\n         distance_ft  \n0         740.987182  \n1        2180.696518  \n2         694.220718  \n3         262.276381  \n4         230.064076  \n...              ...  \n1337858    81.744377  \n1337859   131.545383  \n1337860   947.736354  \n1337861   503.511331  \n1337862   459.666040  \n\n[1337863 rows x 7 columns]",
      "text/html": "<div>\n<style scoped>\n    .dataframe tbody tr th:only-of-type {\n        vertical-align: middle;\n    }\n\n    .dataframe tbody tr th {\n        vertical-align: top;\n    }\n\n    .dataframe thead th {\n        text-align: right;\n    }\n</style>\n<table border=\"1\" class=\"dataframe\">\n  <thead>\n    <tr style=\"text-align: right;\">\n      <th></th>\n      <th>link_id</th>\n      <th>i_node</th>\n      <th>j_node</th>\n      <th>oneway</th>\n      <th>geometry</th>\n      <th>distance_miles</th>\n      <th>distance_ft</th>\n    </tr>\n  </thead>\n  <tbody>\n    <tr>\n      <th>0</th>\n      <td>1</td>\n      <td>1091875</td>\n      <td>984218</td>\n      <td>yes</td>\n      <td>LINESTRING (1276693.013 238146.063, 1276907.48...</td>\n      <td>0.140338</td>\n      <td>740.987182</td>\n    </tr>\n    <tr>\n      <th>1</th>\n      <td>1287</td>\n      <td>1055723</td>\n      <td>1091875</td>\n      <td>yes</td>\n      <td>LINESTRING (1274523.918 237981.621, 1274675.07...</td>\n      <td>0.413011</td>\n      <td>2180.696518</td>\n    </tr>\n    <tr>\n      <th>2</th>\n      <td>1398</td>\n      <td>1091875</td>\n      <td>678437</td>\n      <td>yes</td>\n      <td>LINESTRING (1276693.013 238146.063, 1277258.16...</td>\n      <td>0.131481</td>\n      <td>694.220718</td>\n    </tr>\n    <tr>\n      <th>3</th>\n      <td>649966</td>\n      <td>984218</td>\n      <td>793128</td>\n      <td>yes</td>\n      <td>LINESTRING (1277418.550 238151.097, 1277503.79...</td>\n      <td>0.049674</td>\n      <td>262.276381</td>\n    </tr>\n    <tr>\n      <th>4</th>\n      <td>6990</td>\n      <td>970305</td>\n      <td>1055723</td>\n      <td>yes</td>\n      <td>LINESTRING (1274295.965 237950.522, 1274523.91...</td>\n      <td>0.043573</td>\n      <td>230.064076</td>\n    </tr>\n    <tr>\n      <th>...</th>\n      <td>...</td>\n      <td>...</td>\n      <td>...</td>\n      <td>...</td>\n      <td>...</td>\n      <td>...</td>\n      <td>...</td>\n    </tr>\n    <tr>\n      <th>1337858</th>\n      <td>635325</td>\n      <td>429497</td>\n      <td>176266</td>\n      <td>None</td>\n      <td>LINESTRING (1298938.432 369129.805, 1298977.81...</td>\n      <td>0.015482</td>\n      <td>81.744377</td>\n    </tr>\n    <tr>\n      <th>1337859</th>\n      <td>635321</td>\n      <td>1065772</td>\n      <td>176266</td>\n      <td>None</td>\n      <td>LINESTRING (1299003.394 369003.050, 1299007.58...</td>\n      <td>0.024914</td>\n      <td>131.545383</td>\n    </tr>\n    <tr>\n      <th>1337860</th>\n      <td>781247</td>\n      <td>1065772</td>\n      <td>1018215</td>\n      <td>None</td>\n      <td>LINESTRING (1299003.394 369003.050, 1299003.08...</td>\n      <td>0.179496</td>\n      <td>947.736354</td>\n    </tr>\n    <tr>\n      <th>1337861</th>\n      <td>635320</td>\n      <td>824300</td>\n      <td>1065772</td>\n      <td>None</td>\n      <td>LINESTRING (1298638.164 368706.530, 1298699.91...</td>\n      <td>0.095362</td>\n      <td>503.511331</td>\n    </tr>\n    <tr>\n      <th>1337862</th>\n      <td>781248</td>\n      <td>1040409</td>\n      <td>433900</td>\n      <td>None</td>\n      <td>LINESTRING (1298631.104 369772.278, 1298663.41...</td>\n      <td>0.087058</td>\n      <td>459.666040</td>\n    </tr>\n  </tbody>\n</table>\n<p>1337863 rows × 7 columns</p>\n</div>"
     },
     "execution_count": 5,
     "metadata": {},
     "output_type": "execute_result"
    }
   ],
   "source": [
    "final_network2 = osm_df[['link_id', 'i_node', 'j_node','oneway','geometry']].copy()\n",
    "final_network2['distance_miles'] = final_network2['geometry'].length / 5280\n",
    "final_network2['distance_ft'] = final_network2['geometry'].length\n",
    "final_network2"
   ],
   "metadata": {
    "collapsed": false
   }
  },
  {
   "cell_type": "code",
   "execution_count": 9,
   "outputs": [
    {
     "data": {
      "text/plain": "            from       to  distance\n0        1091875   984218  0.140338\n1        1055723  1091875  0.413011\n2        1091875   678437  0.131481\n3         984218   793128  0.049674\n4         970305  1055723  0.043573\n...          ...      ...       ...\n1337858   429497   176266  0.015482\n1337859  1065772   176266  0.024914\n1337860  1065772  1018215  0.179496\n1337861   824300  1065772  0.095362\n1337862  1040409   433900  0.087058\n\n[1337863 rows x 3 columns]",
      "text/html": "<div>\n<style scoped>\n    .dataframe tbody tr th:only-of-type {\n        vertical-align: middle;\n    }\n\n    .dataframe tbody tr th {\n        vertical-align: top;\n    }\n\n    .dataframe thead th {\n        text-align: right;\n    }\n</style>\n<table border=\"1\" class=\"dataframe\">\n  <thead>\n    <tr style=\"text-align: right;\">\n      <th></th>\n      <th>from</th>\n      <th>to</th>\n      <th>distance</th>\n    </tr>\n  </thead>\n  <tbody>\n    <tr>\n      <th>0</th>\n      <td>1091875</td>\n      <td>984218</td>\n      <td>0.140338</td>\n    </tr>\n    <tr>\n      <th>1</th>\n      <td>1055723</td>\n      <td>1091875</td>\n      <td>0.413011</td>\n    </tr>\n    <tr>\n      <th>2</th>\n      <td>1091875</td>\n      <td>678437</td>\n      <td>0.131481</td>\n    </tr>\n    <tr>\n      <th>3</th>\n      <td>984218</td>\n      <td>793128</td>\n      <td>0.049674</td>\n    </tr>\n    <tr>\n      <th>4</th>\n      <td>970305</td>\n      <td>1055723</td>\n      <td>0.043573</td>\n    </tr>\n    <tr>\n      <th>...</th>\n      <td>...</td>\n      <td>...</td>\n      <td>...</td>\n    </tr>\n    <tr>\n      <th>1337858</th>\n      <td>429497</td>\n      <td>176266</td>\n      <td>0.015482</td>\n    </tr>\n    <tr>\n      <th>1337859</th>\n      <td>1065772</td>\n      <td>176266</td>\n      <td>0.024914</td>\n    </tr>\n    <tr>\n      <th>1337860</th>\n      <td>1065772</td>\n      <td>1018215</td>\n      <td>0.179496</td>\n    </tr>\n    <tr>\n      <th>1337861</th>\n      <td>824300</td>\n      <td>1065772</td>\n      <td>0.095362</td>\n    </tr>\n    <tr>\n      <th>1337862</th>\n      <td>1040409</td>\n      <td>433900</td>\n      <td>0.087058</td>\n    </tr>\n  </tbody>\n</table>\n<p>1337863 rows × 3 columns</p>\n</div>"
     },
     "execution_count": 9,
     "metadata": {},
     "output_type": "execute_result"
    }
   ],
   "source": [
    "links = final_network2[['i_node', 'j_node','distance_miles']].copy()\n",
    "links['from'] = links['i_node']\n",
    "links['to'] = links['j_node']\n",
    "links['distance'] = links['distance_miles']\n",
    "links = links[['from', 'to','distance']]\n",
    "links"
   ],
   "metadata": {
    "collapsed": false
   }
  },
  {
   "cell_type": "code",
   "execution_count": 20,
   "outputs": [
    {
     "data": {
      "text/plain": "          i_node   j_node  distance_miles      oneway\n7         975990   880960        0.024570  reversible\n8         599196   975990        0.113450  reversible\n9         465452   975990        0.020823  reversible\n10        880960   637918        0.074664  reversible\n13        913380   599196        0.554183  reversible\n...          ...      ...             ...         ...\n1337858   429497   176266        0.015482        None\n1337859  1065772   176266        0.024914        None\n1337860  1065772  1018215        0.179496        None\n1337861   824300  1065772        0.095362        None\n1337862  1040409   433900        0.087058        None\n\n[1261305 rows x 4 columns]",
      "text/html": "<div>\n<style scoped>\n    .dataframe tbody tr th:only-of-type {\n        vertical-align: middle;\n    }\n\n    .dataframe tbody tr th {\n        vertical-align: top;\n    }\n\n    .dataframe thead th {\n        text-align: right;\n    }\n</style>\n<table border=\"1\" class=\"dataframe\">\n  <thead>\n    <tr style=\"text-align: right;\">\n      <th></th>\n      <th>i_node</th>\n      <th>j_node</th>\n      <th>distance_miles</th>\n      <th>oneway</th>\n    </tr>\n  </thead>\n  <tbody>\n    <tr>\n      <th>7</th>\n      <td>975990</td>\n      <td>880960</td>\n      <td>0.024570</td>\n      <td>reversible</td>\n    </tr>\n    <tr>\n      <th>8</th>\n      <td>599196</td>\n      <td>975990</td>\n      <td>0.113450</td>\n      <td>reversible</td>\n    </tr>\n    <tr>\n      <th>9</th>\n      <td>465452</td>\n      <td>975990</td>\n      <td>0.020823</td>\n      <td>reversible</td>\n    </tr>\n    <tr>\n      <th>10</th>\n      <td>880960</td>\n      <td>637918</td>\n      <td>0.074664</td>\n      <td>reversible</td>\n    </tr>\n    <tr>\n      <th>13</th>\n      <td>913380</td>\n      <td>599196</td>\n      <td>0.554183</td>\n      <td>reversible</td>\n    </tr>\n    <tr>\n      <th>...</th>\n      <td>...</td>\n      <td>...</td>\n      <td>...</td>\n      <td>...</td>\n    </tr>\n    <tr>\n      <th>1337858</th>\n      <td>429497</td>\n      <td>176266</td>\n      <td>0.015482</td>\n      <td>None</td>\n    </tr>\n    <tr>\n      <th>1337859</th>\n      <td>1065772</td>\n      <td>176266</td>\n      <td>0.024914</td>\n      <td>None</td>\n    </tr>\n    <tr>\n      <th>1337860</th>\n      <td>1065772</td>\n      <td>1018215</td>\n      <td>0.179496</td>\n      <td>None</td>\n    </tr>\n    <tr>\n      <th>1337861</th>\n      <td>824300</td>\n      <td>1065772</td>\n      <td>0.095362</td>\n      <td>None</td>\n    </tr>\n    <tr>\n      <th>1337862</th>\n      <td>1040409</td>\n      <td>433900</td>\n      <td>0.087058</td>\n      <td>None</td>\n    </tr>\n  </tbody>\n</table>\n<p>1261305 rows × 4 columns</p>\n</div>"
     },
     "execution_count": 20,
     "metadata": {},
     "output_type": "execute_result"
    }
   ],
   "source": [
    "final_network2[final_network2['oneway']!='yes'][['i_node', 'j_node','distance_miles', 'oneway']]"
   ],
   "metadata": {
    "collapsed": false
   }
  },
  {
   "cell_type": "code",
   "execution_count": 12,
   "outputs": [
    {
     "data": {
      "text/plain": "            from       to  distance\n0        1091875   984218  0.140338\n1        1055723  1091875  0.413011\n2        1091875   678437  0.131481\n3         984218   793128  0.049674\n4         970305  1055723  0.043573\n...          ...      ...       ...\n1337858   176266   429497  0.015482\n1337859   176266  1065772  0.024914\n1337860  1018215  1065772  0.179496\n1337861  1065772   824300  0.095362\n1337862   433900  1040409  0.087058\n\n[2599168 rows x 3 columns]",
      "text/html": "<div>\n<style scoped>\n    .dataframe tbody tr th:only-of-type {\n        vertical-align: middle;\n    }\n\n    .dataframe tbody tr th {\n        vertical-align: top;\n    }\n\n    .dataframe thead th {\n        text-align: right;\n    }\n</style>\n<table border=\"1\" class=\"dataframe\">\n  <thead>\n    <tr style=\"text-align: right;\">\n      <th></th>\n      <th>from</th>\n      <th>to</th>\n      <th>distance</th>\n    </tr>\n  </thead>\n  <tbody>\n    <tr>\n      <th>0</th>\n      <td>1091875</td>\n      <td>984218</td>\n      <td>0.140338</td>\n    </tr>\n    <tr>\n      <th>1</th>\n      <td>1055723</td>\n      <td>1091875</td>\n      <td>0.413011</td>\n    </tr>\n    <tr>\n      <th>2</th>\n      <td>1091875</td>\n      <td>678437</td>\n      <td>0.131481</td>\n    </tr>\n    <tr>\n      <th>3</th>\n      <td>984218</td>\n      <td>793128</td>\n      <td>0.049674</td>\n    </tr>\n    <tr>\n      <th>4</th>\n      <td>970305</td>\n      <td>1055723</td>\n      <td>0.043573</td>\n    </tr>\n    <tr>\n      <th>...</th>\n      <td>...</td>\n      <td>...</td>\n      <td>...</td>\n    </tr>\n    <tr>\n      <th>1337858</th>\n      <td>176266</td>\n      <td>429497</td>\n      <td>0.015482</td>\n    </tr>\n    <tr>\n      <th>1337859</th>\n      <td>176266</td>\n      <td>1065772</td>\n      <td>0.024914</td>\n    </tr>\n    <tr>\n      <th>1337860</th>\n      <td>1018215</td>\n      <td>1065772</td>\n      <td>0.179496</td>\n    </tr>\n    <tr>\n      <th>1337861</th>\n      <td>1065772</td>\n      <td>824300</td>\n      <td>0.095362</td>\n    </tr>\n    <tr>\n      <th>1337862</th>\n      <td>433900</td>\n      <td>1040409</td>\n      <td>0.087058</td>\n    </tr>\n  </tbody>\n</table>\n<p>2599168 rows × 3 columns</p>\n</div>"
     },
     "execution_count": 12,
     "metadata": {},
     "output_type": "execute_result"
    }
   ],
   "source": [
    "final_network_oppo = final_network2[final_network2['oneway']!='yes'].copy()\n",
    "\n",
    "links_oppo = final_network_oppo[['i_node', 'j_node','distance_miles']].copy()\n",
    "links_oppo['from'] = links_oppo['j_node']\n",
    "links_oppo['to'] = links_oppo['i_node']\n",
    "links_oppo['distance'] = links_oppo['distance_miles']\n",
    "links = links.append(links_oppo[['from', 'to','distance']].copy())\n",
    "links"
   ],
   "metadata": {
    "collapsed": false
   }
  },
  {
   "cell_type": "code",
   "execution_count": 30,
   "outputs": [
    {
     "ename": "TypeError",
     "evalue": "int() argument must be a string, a bytes-like object or a number, not 'list'",
     "output_type": "error",
     "traceback": [
      "\u001B[1;31m---------------------------------------------------------------------------\u001B[0m",
      "\u001B[1;31mTypeError\u001B[0m                                 Traceback (most recent call last)",
      "\u001B[1;32m~\\AppData\\Local\\Temp\\ipykernel_106292\\2457999139.py\u001B[0m in \u001B[0;36m<module>\u001B[1;34m\u001B[0m\n\u001B[1;32m----> 1\u001B[1;33m \u001B[0mkeep\u001B[0m \u001B[1;33m=\u001B[0m \u001B[0mint\u001B[0m\u001B[1;33m(\u001B[0m\u001B[0mlinks\u001B[0m\u001B[1;33m[\u001B[0m\u001B[1;34m'from'\u001B[0m\u001B[1;33m]\u001B[0m\u001B[1;33m.\u001B[0m\u001B[0mtolist\u001B[0m\u001B[1;33m(\u001B[0m\u001B[1;33m)\u001B[0m \u001B[1;33m+\u001B[0m \u001B[0mlinks\u001B[0m\u001B[1;33m[\u001B[0m\u001B[1;34m'to'\u001B[0m\u001B[1;33m]\u001B[0m\u001B[1;33m.\u001B[0m\u001B[0mtolist\u001B[0m\u001B[1;33m(\u001B[0m\u001B[1;33m)\u001B[0m\u001B[1;33m)\u001B[0m\u001B[1;33m\u001B[0m\u001B[1;33m\u001B[0m\u001B[0m\n\u001B[0m\u001B[0;32m      2\u001B[0m \u001B[0mkeep\u001B[0m\u001B[1;33m\u001B[0m\u001B[1;33m\u001B[0m\u001B[0m\n",
      "\u001B[1;31mTypeError\u001B[0m: int() argument must be a string, a bytes-like object or a number, not 'list'"
     ]
    }
   ],
   "source": [
    "keep = int(links['from'].tolist() + links['to'].tolist())\n",
    "keep"
   ],
   "metadata": {
    "collapsed": false
   }
  },
  {
   "cell_type": "code",
   "execution_count": 29,
   "outputs": [
    {
     "data": {
      "text/plain": "[1,\n 2,\n 3,\n 4,\n 5,\n 6,\n 7,\n 8,\n 9,\n 10,\n 11,\n 12,\n 13,\n 14,\n 15,\n 16,\n 17,\n 18,\n 19,\n 20,\n 21,\n 22,\n 23,\n 24,\n 25,\n 26,\n 27,\n 28,\n 29,\n 30,\n 31,\n 32,\n 33,\n 34,\n 35,\n 36,\n 37,\n 38,\n 39,\n 40,\n 41,\n 42,\n 43,\n 44,\n 45,\n 46,\n 47,\n 48,\n 49,\n 50,\n 51,\n 52,\n 53,\n 54,\n 55,\n 56,\n 57,\n 58,\n 59,\n 60,\n 61,\n 62,\n 63,\n 64,\n 65,\n 66,\n 67,\n 68,\n 69,\n 70,\n 71,\n 72,\n 73,\n 74,\n 75,\n 76,\n 77,\n 78,\n 79,\n 80,\n 81,\n 82,\n 83,\n 84,\n 85,\n 86,\n 87,\n 88,\n 89,\n 90,\n 91,\n 92,\n 93,\n 94,\n 95,\n 96,\n 97,\n 98,\n 99,\n 100,\n 101,\n 102,\n 103,\n 104,\n 105,\n 106,\n 107,\n 108,\n 109,\n 110,\n 111,\n 112,\n 113,\n 114,\n 115,\n 116,\n 117,\n 118,\n 119,\n 120,\n 121,\n 122,\n 123,\n 124,\n 125,\n 126,\n 127,\n 128,\n 129,\n 130,\n 131,\n 132,\n 133,\n 134,\n 135,\n 136,\n 137,\n 138,\n 139,\n 140,\n 141,\n 142,\n 143,\n 144,\n 145,\n 146,\n 147,\n 148,\n 149,\n 150,\n 151,\n 152,\n 153,\n 154,\n 155,\n 156,\n 157,\n 158,\n 159,\n 160,\n 161,\n 162,\n 163,\n 164,\n 165,\n 166,\n 167,\n 168,\n 169,\n 170,\n 171,\n 172,\n 173,\n 174,\n 175,\n 176,\n 177,\n 178,\n 179,\n 180,\n 181,\n 182,\n 183,\n 184,\n 185,\n 186,\n 187,\n 188,\n 189,\n 190,\n 191,\n 192,\n 193,\n 194,\n 195,\n 196,\n 197,\n 198,\n 199,\n 200,\n 201,\n 202,\n 203,\n 204,\n 205,\n 206,\n 207,\n 208,\n 209,\n 210,\n 211,\n 212,\n 213,\n 214,\n 215,\n 216,\n 217,\n 218,\n 219,\n 220,\n 221,\n 222,\n 223,\n 224,\n 225,\n 226,\n 227,\n 228,\n 229,\n 230,\n 231,\n 232,\n 233,\n 234,\n 235,\n 236,\n 237,\n 238,\n 239,\n 240,\n 241,\n 242,\n 243,\n 244,\n 245,\n 246,\n 247,\n 248,\n 249,\n 250,\n 251,\n 252,\n 253,\n 254,\n 255,\n 256,\n 257,\n 258,\n 259,\n 260,\n 261,\n 262,\n 263,\n 264,\n 265,\n 266,\n 267,\n 268,\n 269,\n 270,\n 271,\n 272,\n 273,\n 274,\n 275,\n 276,\n 277,\n 278,\n 279,\n 280,\n 281,\n 282,\n 283,\n 284,\n 285,\n 286,\n 287,\n 288,\n 289,\n 290,\n 291,\n 292,\n 293,\n 294,\n 295,\n 296,\n 297,\n 298,\n 299,\n 300,\n 301,\n 302,\n 303,\n 304,\n 305,\n 306,\n 307,\n 308,\n 309,\n 310,\n 311,\n 312,\n 313,\n 314,\n 315,\n 316,\n 317,\n 318,\n 319,\n 320,\n 321,\n 322,\n 323,\n 324,\n 325,\n 326,\n 327,\n 328,\n 329,\n 330,\n 331,\n 332,\n 333,\n 334,\n 335,\n 336,\n 337,\n 338,\n 339,\n 340,\n 341,\n 342,\n 343,\n 344,\n 345,\n 346,\n 347,\n 348,\n 349,\n 350,\n 351,\n 352,\n 353,\n 354,\n 355,\n 356,\n 357,\n 358,\n 359,\n 360,\n 361,\n 362,\n 363,\n 364,\n 365,\n 366,\n 367,\n 368,\n 369,\n 370,\n 371,\n 372,\n 373,\n 374,\n 375,\n 376,\n 377,\n 378,\n 379,\n 380,\n 381,\n 382,\n 383,\n 384,\n 385,\n 386,\n 387,\n 388,\n 389,\n 390,\n 391,\n 392,\n 393,\n 394,\n 395,\n 396,\n 397,\n 398,\n 399,\n 400,\n 401,\n 402,\n 403,\n 404,\n 405,\n 406,\n 407,\n 408,\n 409,\n 410,\n 411,\n 412,\n 413,\n 414,\n 415,\n 416,\n 417,\n 418,\n 419,\n 420,\n 421,\n 422,\n 423,\n 424,\n 425,\n 426,\n 427,\n 428,\n 429,\n 430,\n 431,\n 432,\n 433,\n 434,\n 435,\n 436,\n 437,\n 438,\n 439,\n 440,\n 441,\n 442,\n 443,\n 444,\n 445,\n 446,\n 447,\n 448,\n 449,\n 450,\n 451,\n 452,\n 453,\n 454,\n 455,\n 456,\n 457,\n 458,\n 459,\n 460,\n 461,\n 462,\n 463,\n 464,\n 465,\n 466,\n 467,\n 468,\n 469,\n 470,\n 471,\n 472,\n 473,\n 474,\n 475,\n 476,\n 477,\n 478,\n 479,\n 480,\n 481,\n 482,\n 483,\n 484,\n 485,\n 486,\n 487,\n 488,\n 489,\n 490,\n 491,\n 492,\n 493,\n 494,\n 495,\n 496,\n 497,\n 498,\n 499,\n 500,\n 501,\n 502,\n 503,\n 504,\n 505,\n 506,\n 507,\n 508,\n 509,\n 510,\n 511,\n 512,\n 513,\n 514,\n 515,\n 516,\n 517,\n 518,\n 519,\n 520,\n 521,\n 522,\n 523,\n 524,\n 525,\n 526,\n 527,\n 528,\n 529,\n 530,\n 531,\n 532,\n 533,\n 534,\n 535,\n 536,\n 537,\n 538,\n 539,\n 540,\n 541,\n 542,\n 543,\n 544,\n 545,\n 546,\n 547,\n 548,\n 549,\n 550,\n 551,\n 552,\n 553,\n 554,\n 555,\n 556,\n 557,\n 558,\n 559,\n 560,\n 561,\n 562,\n 563,\n 564,\n 565,\n 566,\n 567,\n 568,\n 569,\n 570,\n 571,\n 572,\n 573,\n 574,\n 575,\n 576,\n 577,\n 578,\n 579,\n 580,\n 581,\n 582,\n 583,\n 584,\n 585,\n 586,\n 587,\n 588,\n 589,\n 590,\n 591,\n 592,\n 593,\n 594,\n 595,\n 596,\n 597,\n 598,\n 599,\n 600,\n 601,\n 602,\n 603,\n 604,\n 605,\n 606,\n 607,\n 608,\n 609,\n 610,\n 611,\n 612,\n 613,\n 614,\n 615,\n 616,\n 617,\n 618,\n 619,\n 620,\n 621,\n 622,\n 623,\n 624,\n 625,\n 626,\n 627,\n 628,\n 629,\n 630,\n 631,\n 632,\n 633,\n 634,\n 635,\n 636,\n 637,\n 638,\n 639,\n 640,\n 641,\n 642,\n 643,\n 644,\n 645,\n 646,\n 647,\n 648,\n 649,\n 650,\n 651,\n 652,\n 653,\n 654,\n 655,\n 656,\n 657,\n 658,\n 659,\n 660,\n 661,\n 662,\n 663,\n 664,\n 665,\n 666,\n 667,\n 668,\n 669,\n 670,\n 671,\n 672,\n 673,\n 674,\n 675,\n 676,\n 677,\n 678,\n 679,\n 680,\n 681,\n 682,\n 683,\n 684,\n 685,\n 686,\n 687,\n 688,\n 689,\n 690,\n 691,\n 692,\n 693,\n 694,\n 695,\n 696,\n 697,\n 698,\n 699,\n 700,\n 701,\n 702,\n 703,\n 704,\n 705,\n 706,\n 707,\n 708,\n 709,\n 710,\n 711,\n 712,\n 713,\n 714,\n 715,\n 716,\n 717,\n 718,\n 719,\n 720,\n 721,\n 722,\n 723,\n 724,\n 725,\n 726,\n 727,\n 728,\n 729,\n 730,\n 731,\n 732,\n 733,\n 734,\n 735,\n 736,\n 737,\n 738,\n 739,\n 740,\n 741,\n 742,\n 743,\n 744,\n 745,\n 746,\n 747,\n 748,\n 749,\n 750,\n 751,\n 752,\n 753,\n 754,\n 755,\n 756,\n 757,\n 758,\n 759,\n 760,\n 761,\n 762,\n 763,\n 764,\n 765,\n 766,\n 767,\n 768,\n 769,\n 770,\n 771,\n 772,\n 773,\n 774,\n 775,\n 776,\n 777,\n 778,\n 779,\n 780,\n 781,\n 782,\n 783,\n 784,\n 785,\n 786,\n 787,\n 788,\n 789,\n 790,\n 791,\n 792,\n 793,\n 794,\n 795,\n 796,\n 797,\n 798,\n 799,\n 800,\n 801,\n 802,\n 803,\n 804,\n 805,\n 806,\n 807,\n 808,\n 809,\n 810,\n 811,\n 812,\n 813,\n 814,\n 815,\n 816,\n 817,\n 818,\n 819,\n 820,\n 821,\n 822,\n 823,\n 824,\n 825,\n 826,\n 827,\n 828,\n 829,\n 830,\n 831,\n 832,\n 833,\n 834,\n 835,\n 836,\n 837,\n 838,\n 839,\n 840,\n 841,\n 842,\n 843,\n 844,\n 845,\n 846,\n 847,\n 848,\n 849,\n 850,\n 851,\n 852,\n 853,\n 854,\n 855,\n 856,\n 857,\n 858,\n 859,\n 860,\n 861,\n 862,\n 863,\n 864,\n 865,\n 866,\n 867,\n 868,\n 869,\n 870,\n 871,\n 872,\n 873,\n 874,\n 875,\n 876,\n 877,\n 878,\n 879,\n 880,\n 881,\n 882,\n 883,\n 884,\n 885,\n 886,\n 887,\n 888,\n 889,\n 890,\n 891,\n 892,\n 893,\n 894,\n 895,\n 896,\n 897,\n 898,\n 899,\n 900,\n 901,\n 902,\n 903,\n 904,\n 905,\n 906,\n 907,\n 908,\n 909,\n 910,\n 911,\n 912,\n 913,\n 914,\n 915,\n 916,\n 917,\n 918,\n 919,\n 920,\n 921,\n 922,\n 923,\n 924,\n 925,\n 926,\n 927,\n 928,\n 929,\n 930,\n 931,\n 932,\n 933,\n 934,\n 935,\n 936,\n 937,\n 938,\n 939,\n 940,\n 941,\n 942,\n 943,\n 944,\n 945,\n 946,\n 947,\n 948,\n 949,\n 950,\n 951,\n 952,\n 953,\n 954,\n 955,\n 956,\n 957,\n 958,\n 959,\n 960,\n 961,\n 962,\n 963,\n 964,\n 965,\n 966,\n 967,\n 968,\n 969,\n 970,\n 971,\n 972,\n 973,\n 974,\n 975,\n 976,\n 977,\n 978,\n 979,\n 980,\n 981,\n 982,\n 983,\n 984,\n 985,\n 986,\n 987,\n 988,\n 989,\n 990,\n 991,\n 992,\n 993,\n 994,\n 995,\n 996,\n 997,\n 998,\n 999,\n 1000,\n ...]"
     },
     "execution_count": 29,
     "metadata": {},
     "output_type": "execute_result"
    }
   ],
   "source": [
    "nodes['node_id'].tolist()"
   ],
   "metadata": {
    "collapsed": false
   }
  },
  {
   "cell_type": "code",
   "execution_count": 37,
   "outputs": [
    {
     "data": {
      "text/plain": "1075674"
     },
     "execution_count": 37,
     "metadata": {},
     "output_type": "execute_result"
    }
   ],
   "source": [
    "res = [int(i) for i in links['from'].tolist() + links['to'].tolist()]\n",
    "\n",
    "keep_nodes = nodes[nodes['node_id'].isin(res)]\n",
    "len(keep_nodes)"
   ],
   "metadata": {
    "collapsed": false
   }
  },
  {
   "cell_type": "markdown",
   "source": [
    "# remove disconnected networks"
   ],
   "metadata": {
    "collapsed": false
   }
  },
  {
   "cell_type": "code",
   "execution_count": 8,
   "outputs": [],
   "source": [
    "\n",
    "from pathlib import Path\n",
    "\n",
    "def rm_sub_network(gdf, islands, crs):\n",
    "    x_graph = nx.Graph()\n",
    "    graph = nx.from_pandas_edgelist(gdf, 'i_node', 'j_node',\n",
    "                                    ['link_id', 'highway', 'name', 'bridge', 'tunnel', 'oneway', 'road_id',\n",
    "                                     'all_link_i', 'i_node', 'j_node', 'geometry'], x_graph)\n",
    "    # find all sub_networks\n",
    "    sep_graph = [graph.subgraph(c).copy() for c in sorted(nx.connected_components(graph), key=len, reverse=True)]\n",
    "\n",
    "    # combine all edges other than the main network\n",
    "    df_list = []\n",
    "    for i in range(1, len(sep_graph)):\n",
    "        df = nx.to_pandas_edgelist(sep_graph[i])\n",
    "        df_list.append(df)\n",
    "    all_disconnected = pd.concat(df_list, ignore_index=True)\n",
    "\n",
    "    # create a gdf out of the disconnected network and clip with island shp\n",
    "    gdf_disconnect = gpd.GeoDataFrame(all_disconnected, geometry='geometry').set_crs(crs)\n",
    "\n",
    "    # keep only networks on islands: clip disconnected networks using islands\n",
    "    # islands = gpd.read_file(Path(islands)).to_crs(crs)\n",
    "    island_network = gpd.clip(gdf_disconnect, islands.to_crs(crs))\n",
    "\n",
    "    # gdf of main network\n",
    "    df_final_network = nx.to_pandas_edgelist(sep_graph[0]).append(island_network)\n",
    "    final_network = gpd.GeoDataFrame(df_final_network, geometry='geometry').set_crs(crs)\n",
    "\n",
    "    return final_network"
   ],
   "metadata": {
    "collapsed": false
   }
  },
  {
   "cell_type": "code",
   "execution_count": 10,
   "outputs": [
    {
     "name": "stderr",
     "output_type": "stream",
     "text": [
      "C:\\Users\\JLin\\Anaconda3\\envs\\geomap\\lib\\site-packages\\pandas\\core\\dtypes\\cast.py:118: ShapelyDeprecationWarning: The array interface is deprecated and will no longer work in Shapely 2.0. Convert the '.coords' to a numpy array instead.\n",
      "  arr = construct_1d_object_array_from_listlike(values)\n",
      "C:\\Users\\JLin\\Anaconda3\\envs\\geomap\\lib\\site-packages\\pandas\\core\\dtypes\\cast.py:118: ShapelyDeprecationWarning: The array interface is deprecated and will no longer work in Shapely 2.0. Convert the '.coords' to a numpy array instead.\n",
      "  arr = construct_1d_object_array_from_listlike(values)\n"
     ]
    }
   ],
   "source": [
    "main_network = rm_sub_network(osm_df, islands, 2258)"
   ],
   "metadata": {
    "collapsed": false
   }
  },
  {
   "cell_type": "code",
   "execution_count": 13,
   "outputs": [
    {
     "data": {
      "text/plain": "Index(['link_id', 'highway', 'name', 'bridge', 'tunnel', 'oneway', 'road_id',\n       'all_link_i', 'i_node', 'j_node', 'geometry'],\n      dtype='object')"
     },
     "execution_count": 13,
     "metadata": {},
     "output_type": "execute_result"
    }
   ],
   "source": [
    "osm_df.columns"
   ],
   "metadata": {
    "collapsed": false
   }
  },
  {
   "cell_type": "code",
   "execution_count": 14,
   "outputs": [],
   "source": [
    "# only keep connected network.\n",
    "x = nx.Graph()\n",
    "G = nx.from_pandas_edgelist(osm_df, 'i_node', 'j_node', ['link_id', 'highway', 'name', 'bridge', 'tunnel', 'oneway', 'road_id',\n",
    "                                                         'all_link_i', 'i_node', 'j_node', 'geometry'], x)"
   ],
   "metadata": {
    "collapsed": false
   }
  },
  {
   "cell_type": "code",
   "execution_count": 4,
   "outputs": [],
   "source": [
    "S = [G.subgraph(c).copy() for c in sorted(nx.connected_components(G), key=len, reverse=True)]"
   ],
   "metadata": {
    "collapsed": false
   }
  },
  {
   "cell_type": "code",
   "execution_count": 30,
   "outputs": [
    {
     "name": "stderr",
     "output_type": "stream",
     "text": [
      "C:\\Users\\JLin\\Anaconda3\\envs\\geomap\\lib\\site-packages\\pandas\\core\\dtypes\\cast.py:118: ShapelyDeprecationWarning: The array interface is deprecated and will no longer work in Shapely 2.0. Convert the '.coords' to a numpy array instead.\n",
      "  arr = construct_1d_object_array_from_listlike(values)\n"
     ]
    }
   ],
   "source": [
    "# save disconnected network to shp file\n",
    "for i in range(len(S)):\n",
    "    df = nx.to_pandas_edgelist(S[i])\n",
    "    connected_links = osm_df[osm_df['all_link_i'].isin(df['all_link_i'])]\n",
    "    connected_links.to_file(r'C:/Joanne_PSRC/temp_data/connected_links_%s.shp' % (str(i)))\n"
   ],
   "metadata": {
    "collapsed": false
   }
  },
  {
   "cell_type": "code",
   "execution_count": 18,
   "outputs": [
    {
     "name": "stderr",
     "output_type": "stream",
     "text": [
      "C:\\Users\\JLin\\Anaconda3\\envs\\geomap\\lib\\site-packages\\pandas\\core\\dtypes\\cast.py:118: ShapelyDeprecationWarning: The array interface is deprecated and will no longer work in Shapely 2.0. Convert the '.coords' to a numpy array instead.\n",
      "  arr = construct_1d_object_array_from_listlike(values)\n"
     ]
    }
   ],
   "source": [
    "# combine all edges other than the main network\n",
    "df_list = []\n",
    "\n",
    "for i in range(1,len(S)):\n",
    "    df = nx.to_pandas_edgelist(S[i])\n",
    "    df_list.append(df)\n",
    "\n",
    "all_disconnected = pd.concat(df_list,ignore_index=True)\n",
    "# create a gdf out of the disconnected network and clip with island shp\n",
    "gdf_disconnect = gpd.GeoDataFrame(all_disconnected, geometry='geometry').set_crs(2285)"
   ],
   "metadata": {
    "collapsed": false
   }
  },
  {
   "cell_type": "code",
   "execution_count": 3,
   "outputs": [],
   "source": [
    "\n",
    "# island_network = gpd.clip(gdf_disconnect, islands)"
   ],
   "metadata": {
    "collapsed": false
   }
  },
  {
   "cell_type": "code",
   "execution_count": 30,
   "outputs": [
    {
     "name": "stderr",
     "output_type": "stream",
     "text": [
      "C:\\Users\\JLin\\Anaconda3\\envs\\geomap\\lib\\site-packages\\pandas\\core\\dtypes\\cast.py:118: ShapelyDeprecationWarning: The array interface is deprecated and will no longer work in Shapely 2.0. Convert the '.coords' to a numpy array instead.\n",
      "  arr = construct_1d_object_array_from_listlike(values)\n"
     ]
    }
   ],
   "source": [
    "# gdf of main network\n",
    "# final_network = osm_df[osm_df['all_link_i'].isin(nx.to_pandas_edgelist(S[0])['all_link_i'] + island_network['all_link_i'])]\n",
    "final_network = nx.to_pandas_edgelist(S[0]).append(island_network)"
   ],
   "metadata": {
    "collapsed": false
   }
  },
  {
   "cell_type": "code",
   "execution_count": 33,
   "outputs": [],
   "source": [
    "final_network1 = gpd.GeoDataFrame(final_network, geometry='geometry').set_crs(2285)"
   ],
   "metadata": {
    "collapsed": false
   }
  },
  {
   "cell_type": "code",
   "execution_count": 34,
   "outputs": [],
   "source": [
    "final_network1.to_file(r'C:/Joanne_PSRC/temp_data/connect_network.shp')"
   ],
   "metadata": {
    "collapsed": false
   }
  }
 ],
 "metadata": {
  "kernelspec": {
   "display_name": "Python 3",
   "language": "python",
   "name": "python3"
  },
  "language_info": {
   "codemirror_mode": {
    "name": "ipython",
    "version": 2
   },
   "file_extension": ".py",
   "mimetype": "text/x-python",
   "name": "python",
   "nbconvert_exporter": "python",
   "pygments_lexer": "ipython2",
   "version": "2.7.6"
  }
 },
 "nbformat": 4,
 "nbformat_minor": 0
}
